{
 "cells": [
  {
   "cell_type": "code",
   "execution_count": 26,
   "id": "eec3e3c0",
   "metadata": {},
   "outputs": [
    {
     "name": "stdout",
     "output_type": "stream",
     "text": [
      "Requirement already satisfied: psycopg2 in c:\\users\\tyagi\\appdata\\local\\programs\\python\\python310\\lib\\site-packages (2.9.3)"
     ]
    },
    {
     "name": "stderr",
     "output_type": "stream",
     "text": [
      "\n",
      "[notice] A new release of pip available: 22.2.1 -> 22.2.2\n",
      "[notice] To update, run: python.exe -m pip install --upgrade pip\n"
     ]
    },
    {
     "name": "stdout",
     "output_type": "stream",
     "text": [
      "\n"
     ]
    }
   ],
   "source": [
    "!pip install psycopg2"
   ]
  },
  {
   "cell_type": "code",
   "execution_count": 1,
   "id": "12e2acb9",
   "metadata": {},
   "outputs": [],
   "source": [
    "import psycopg2"
   ]
  },
  {
   "cell_type": "code",
   "execution_count": 18,
   "id": "919d244e",
   "metadata": {},
   "outputs": [],
   "source": [
    "try:\n",
    "    conn=psycopg2.connect(\"host=127.0.0.1 dbname=postgres user=postgres password=dbpass1234\")\n",
    "except psycopg2.Error as e:\n",
    "    print(e)"
   ]
  },
  {
   "cell_type": "code",
   "execution_count": 19,
   "id": "cb55286a",
   "metadata": {},
   "outputs": [],
   "source": [
    "try:\n",
    "    curr=conn.cursor()\n",
    "except psycopg2.Error as e:\n",
    "    print(e)"
   ]
  },
  {
   "cell_type": "code",
   "execution_count": 20,
   "id": "3cafdc32",
   "metadata": {},
   "outputs": [],
   "source": [
    "conn.set_session(autocommit=True)"
   ]
  },
  {
   "cell_type": "code",
   "execution_count": 21,
   "id": "fc9ea71e",
   "metadata": {},
   "outputs": [
    {
     "name": "stdout",
     "output_type": "stream",
     "text": [
      "database \"animenew\" already exists\n",
      "\n"
     ]
    }
   ],
   "source": [
    "try:\n",
    "    curr.execute(\"Create database animenew\")\n",
    "except psycopg2.Error as e:\n",
    "    print(e)"
   ]
  },
  {
   "cell_type": "code",
   "execution_count": 22,
   "id": "76701239",
   "metadata": {},
   "outputs": [],
   "source": [
    "try:\n",
    "    conn.close()\n",
    "except psycopg2.Error as e:\n",
    "    print(e)\n",
    "    \n"
   ]
  },
  {
   "cell_type": "code",
   "execution_count": 16,
   "id": "8bf30fc1",
   "metadata": {},
   "outputs": [],
   "source": [
    "try:\n",
    "    conn = psycopg2.connect(\"host=localhost dbname=animenew user=postgres password=dbpass1234\")\n",
    "except psycopg2.Error as e:\n",
    "    print(e)\n",
    "    \n",
    "try:\n",
    "    curr = conn.cursor()\n",
    "except psycopg2.Error as e:\n",
    "    print(e)\n",
    "    \n",
    "conn.set_session(autocommit=True)"
   ]
  },
  {
   "cell_type": "code",
   "execution_count": 50,
   "id": "c041445c",
   "metadata": {},
   "outputs": [],
   "source": [
    "try:\n",
    "    curr.execute(\"CREATE TABLE IF NOT EXISTS animedetails(Rank numeric,Name varchar,Japanese_name varchar,Type varchar, Episodes numeric,\\\n",
    "                  Studio varchar,Release_season varchar,Rating numeric,Release_year numeric,End_year numeric)\")\n",
    "except psycopg2.Error as e:\n",
    "    print(e)"
   ]
  },
  {
   "cell_type": "code",
   "execution_count": null,
   "id": "84e3dc73",
   "metadata": {},
   "outputs": [],
   "source": [
    "!pip install pandas"
   ]
  },
  {
   "cell_type": "code",
   "execution_count": 18,
   "id": "18c86ff5",
   "metadata": {},
   "outputs": [],
   "source": [
    "import pandas as pd"
   ]
  },
  {
   "cell_type": "code",
   "execution_count": 19,
   "id": "14592930",
   "metadata": {},
   "outputs": [],
   "source": [
    "AnimeData = pd.read_csv(\"C:/Users/tyagi/OneDrive/Documents/PyTut/DataSets/Anime.csv\")"
   ]
  },
  {
   "cell_type": "code",
   "execution_count": 47,
   "id": "c85aa914",
   "metadata": {},
   "outputs": [
    {
     "data": {
      "text/html": [
       "<div>\n",
       "<style scoped>\n",
       "    .dataframe tbody tr th:only-of-type {\n",
       "        vertical-align: middle;\n",
       "    }\n",
       "\n",
       "    .dataframe tbody tr th {\n",
       "        vertical-align: top;\n",
       "    }\n",
       "\n",
       "    .dataframe thead th {\n",
       "        text-align: right;\n",
       "    }\n",
       "</style>\n",
       "<table border=\"1\" class=\"dataframe\">\n",
       "  <thead>\n",
       "    <tr style=\"text-align: right;\">\n",
       "      <th></th>\n",
       "      <th>Rank</th>\n",
       "      <th>Name</th>\n",
       "      <th>Japanese_name</th>\n",
       "      <th>Type</th>\n",
       "      <th>Episodes</th>\n",
       "      <th>Studio</th>\n",
       "      <th>Release_season</th>\n",
       "      <th>Rating</th>\n",
       "      <th>Release_year</th>\n",
       "      <th>End_year</th>\n",
       "    </tr>\n",
       "  </thead>\n",
       "  <tbody>\n",
       "    <tr>\n",
       "      <th>0</th>\n",
       "      <td>1</td>\n",
       "      <td>Demon Slayer: Kimetsu no Yaiba - Entertainment...</td>\n",
       "      <td>Kimetsu no Yaiba: Yuukaku-hen</td>\n",
       "      <td>TV</td>\n",
       "      <td>NaN</td>\n",
       "      <td>ufotable</td>\n",
       "      <td>Fall</td>\n",
       "      <td>4.60</td>\n",
       "      <td>2021.0</td>\n",
       "      <td>NaN</td>\n",
       "    </tr>\n",
       "    <tr>\n",
       "      <th>1</th>\n",
       "      <td>2</td>\n",
       "      <td>Fruits Basket the Final Season</td>\n",
       "      <td>Fruits Basket the Final</td>\n",
       "      <td>TV</td>\n",
       "      <td>13.0</td>\n",
       "      <td>TMS Entertainment</td>\n",
       "      <td>Spring</td>\n",
       "      <td>4.60</td>\n",
       "      <td>2021.0</td>\n",
       "      <td>NaN</td>\n",
       "    </tr>\n",
       "    <tr>\n",
       "      <th>2</th>\n",
       "      <td>3</td>\n",
       "      <td>Mo Dao Zu Shi 3</td>\n",
       "      <td>The Founder of Diabolism 3</td>\n",
       "      <td>Web</td>\n",
       "      <td>12.0</td>\n",
       "      <td>B.C MAY PICTURES</td>\n",
       "      <td>NaN</td>\n",
       "      <td>4.58</td>\n",
       "      <td>2021.0</td>\n",
       "      <td>NaN</td>\n",
       "    </tr>\n",
       "    <tr>\n",
       "      <th>3</th>\n",
       "      <td>4</td>\n",
       "      <td>Fullmetal Alchemist: Brotherhood</td>\n",
       "      <td>Hagane no Renkinjutsushi: Full Metal Alchemist</td>\n",
       "      <td>TV</td>\n",
       "      <td>64.0</td>\n",
       "      <td>Bones</td>\n",
       "      <td>Spring</td>\n",
       "      <td>4.58</td>\n",
       "      <td>2009.0</td>\n",
       "      <td>2010.0</td>\n",
       "    </tr>\n",
       "    <tr>\n",
       "      <th>4</th>\n",
       "      <td>5</td>\n",
       "      <td>Attack on Titan 3rd Season: Part II</td>\n",
       "      <td>Shingeki no Kyojin Season 3: Part II</td>\n",
       "      <td>TV</td>\n",
       "      <td>10.0</td>\n",
       "      <td>WIT Studio</td>\n",
       "      <td>Spring</td>\n",
       "      <td>4.57</td>\n",
       "      <td>2019.0</td>\n",
       "      <td>NaN</td>\n",
       "    </tr>\n",
       "  </tbody>\n",
       "</table>\n",
       "</div>"
      ],
      "text/plain": [
       "   Rank                                               Name  \\\n",
       "0     1  Demon Slayer: Kimetsu no Yaiba - Entertainment...   \n",
       "1     2                     Fruits Basket the Final Season   \n",
       "2     3                                    Mo Dao Zu Shi 3   \n",
       "3     4                   Fullmetal Alchemist: Brotherhood   \n",
       "4     5                Attack on Titan 3rd Season: Part II   \n",
       "\n",
       "                                     Japanese_name   Type  Episodes  \\\n",
       "0                    Kimetsu no Yaiba: Yuukaku-hen  TV          NaN   \n",
       "1                          Fruits Basket the Final  TV         13.0   \n",
       "2                       The Founder of Diabolism 3  Web        12.0   \n",
       "3   Hagane no Renkinjutsushi: Full Metal Alchemist  TV         64.0   \n",
       "4             Shingeki no Kyojin Season 3: Part II  TV         10.0   \n",
       "\n",
       "              Studio Release_season  Rating  Release_year  End_year  \n",
       "0           ufotable          Fall     4.60        2021.0       NaN  \n",
       "1  TMS Entertainment         Spring    4.60        2021.0       NaN  \n",
       "2   B.C MAY PICTURES            NaN    4.58        2021.0       NaN  \n",
       "3              Bones         Spring    4.58        2009.0    2010.0  \n",
       "4         WIT Studio         Spring    4.57        2019.0       NaN  "
      ]
     },
     "execution_count": 47,
     "metadata": {},
     "output_type": "execute_result"
    }
   ],
   "source": [
    "AnimeData.head()"
   ]
  },
  {
   "cell_type": "code",
   "execution_count": 29,
   "id": "cf5d9780",
   "metadata": {},
   "outputs": [],
   "source": [
    "AnimeData = AnimeData.drop(['Tags'],axis=1)"
   ]
  },
  {
   "cell_type": "code",
   "execution_count": 51,
   "id": "779426cb",
   "metadata": {},
   "outputs": [],
   "source": [
    "animedetails_table_insert=('''INSERT INTO animedetails(Rank,Name,Japanese_name,Type,Episodes,Studio,Release_season,\n",
    "                              Rating,Release_year,End_year)\n",
    "                              VALUES (%s,%s,%s,%s,%s,%s,%s,%s,%s,%s)\n",
    "                            ''')"
   ]
  },
  {
   "cell_type": "code",
   "execution_count": 52,
   "id": "6e35334c",
   "metadata": {
    "scrolled": true
   },
   "outputs": [],
   "source": [
    "for i, row in AnimeData.iterrows():\n",
    "    #print(list(row))\n",
    "    curr.execute(animedetails_table_insert,list(row))"
   ]
  },
  {
   "cell_type": "code",
   "execution_count": 54,
   "id": "2a62c783",
   "metadata": {},
   "outputs": [],
   "source": [
    "try:\n",
    "    curr.execute(\"SELECT * FROM animedetails\")\n",
    "except psycopg2.Error as e:\n",
    "    print(e)"
   ]
  },
  {
   "cell_type": "code",
   "execution_count": 56,
   "id": "d239863a",
   "metadata": {},
   "outputs": [],
   "source": [
    "curr.close()\n",
    "conn.close()"
   ]
  },
  {
   "cell_type": "code",
   "execution_count": null,
   "id": "c47c2833",
   "metadata": {},
   "outputs": [],
   "source": []
  }
 ],
 "metadata": {
  "kernelspec": {
   "display_name": "Python 3 (ipykernel)",
   "language": "python",
   "name": "python3"
  },
  "language_info": {
   "codemirror_mode": {
    "name": "ipython",
    "version": 3
   },
   "file_extension": ".py",
   "mimetype": "text/x-python",
   "name": "python",
   "nbconvert_exporter": "python",
   "pygments_lexer": "ipython3",
   "version": "3.10.4"
  }
 },
 "nbformat": 4,
 "nbformat_minor": 5
}
